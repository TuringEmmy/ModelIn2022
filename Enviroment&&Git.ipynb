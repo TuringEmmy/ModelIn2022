{
 "cells": [
  {
   "cell_type": "code",
   "execution_count": 3,
   "id": "6f753a92",
   "metadata": {
    "ExecuteTime": {
     "end_time": "2022-03-03T03:26:51.038689Z",
     "start_time": "2022-03-03T03:26:46.778649Z"
    }
   },
   "outputs": [],
   "source": [
    "!conda env export > enviroment.yml"
   ]
  },
  {
   "cell_type": "code",
   "execution_count": 4,
   "id": "429a4d80",
   "metadata": {
    "ExecuteTime": {
     "end_time": "2022-03-03T03:26:52.778650Z",
     "start_time": "2022-03-03T03:26:52.425649Z"
    }
   },
   "outputs": [
    {
     "name": "stdout",
     "output_type": "stream",
     "text": [
      "On branch main\n",
      "Your branch is up to date with 'origin/main'.\n",
      "\n",
      "Changes to be committed:\n",
      "  (use \"git restore --staged <file>...\" to unstage)\n",
      "\tnew file:   ComputerVision/ImageClassificationFromScratch.py\n",
      "\tnew file:   ComputerVision/__init__.py\n",
      "\n",
      "Changes not staged for commit:\n",
      "  (use \"git add <file>...\" to update what will be committed)\n",
      "  (use \"git restore <file>...\" to discard changes in working directory)\n",
      "\tmodified:   .gitignore\n",
      "\tmodified:   ComputerVision/ImageClassificationFromScratch.py\n",
      "\tmodified:   ComputerVision/__init__.py\n",
      "\n",
      "Untracked files:\n",
      "  (use \"git add <file>...\" to include in what will be committed)\n",
      "\tComputerVision/ComputerVision.md\n",
      "\tEnviroment&&Git.ipynb\n",
      "\tenviroment.yml\n",
      "\n"
     ]
    }
   ],
   "source": [
    "!git status"
   ]
  },
  {
   "cell_type": "code",
   "execution_count": null,
   "id": "ab3e4ed1",
   "metadata": {},
   "outputs": [],
   "source": [
    "!git commit -m \"\""
   ]
  }
 ],
 "metadata": {
  "kernelspec": {
   "display_name": "Python 3 (ipykernel)",
   "language": "python",
   "name": "python3"
  },
  "language_info": {
   "codemirror_mode": {
    "name": "ipython",
    "version": 3
   },
   "file_extension": ".py",
   "mimetype": "text/x-python",
   "name": "python",
   "nbconvert_exporter": "python",
   "pygments_lexer": "ipython3",
   "version": "3.8.0"
  }
 },
 "nbformat": 4,
 "nbformat_minor": 5
}
