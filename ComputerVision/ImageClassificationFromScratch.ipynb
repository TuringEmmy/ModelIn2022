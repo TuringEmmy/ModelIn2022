{
 "cells": [
  {
   "cell_type": "markdown",
   "id": "98768740",
   "metadata": {},
   "source": [
    "#### Introduction\n",
    "This example shows how to do image classification from scratch, starting from JPEG image files on disk, without leveraging pre-trained weights or a pre-made Keras Application model. We demonstrate the workflow on the Kaggle Cats vs Dogs binary classification dataset.\n",
    "\n",
    "We use the image_dataset_from_directory utility to generate the datasets, and we use Keras image preprocessing layers for image standardization and data augmentation."
   ]
  },
  {
   "cell_type": "code",
   "execution_count": 1,
   "id": "8322aca0",
   "metadata": {
    "ExecuteTime": {
     "end_time": "2022-03-03T03:41:08.550298Z",
     "start_time": "2022-03-03T03:40:59.065299Z"
    }
   },
   "outputs": [],
   "source": [
    "import tensorflow as tf\n",
    "from tensorflow import keras\n",
    "from tensorflow.keras import layers"
   ]
  },
  {
   "cell_type": "code",
   "execution_count": 2,
   "id": "0935573a",
   "metadata": {
    "ExecuteTime": {
     "end_time": "2022-03-03T03:41:51.101055Z",
     "start_time": "2022-03-03T03:41:29.253354Z"
    }
   },
   "outputs": [
    {
     "name": "stderr",
     "output_type": "stream",
     "text": [
      "  % Total    % Received % Xferd  Average Speed   Time    Time     Time  Current\n",
      "                                 Dload  Upload   Total   Spent    Left  Speed\n",
      "\n",
      "  0     0    0     0    0     0      0      0 --:--:-- --:--:-- --:--:--     0\n",
      "  0     0    0     0    0     0      0      0 --:--:--  0:00:01 --:--:--     0\n",
      "  0     0    0     0    0     0      0      0 --:--:--  0:00:02 --:--:--     0\n",
      "  0     0    0     0    0     0      0      0 --:--:--  0:00:03 --:--:--     0\n",
      "  0     0    0     0    0     0      0      0 --:--:--  0:00:04 --:--:--     0\n",
      "  0     0    0     0    0     0      0      0 --:--:--  0:00:05 --:--:--     0\n",
      "  0  786M    0 15924    0     0   2863      0 80:02:02  0:00:05 80:01:57  3588\n",
      "  1  786M    1 10.5M    0     0  1726k      0  0:07:46  0:00:06  0:07:40 2647k\n",
      "  6  786M    6 49.4M    0     0  6947k      0  0:01:55  0:00:07  0:01:48 12.1M\n",
      " 13  786M   13  105M    0     0  12.7M      0  0:01:01  0:00:08  0:00:53 25.9M\n",
      " 19  786M   19  154M    0     0  16.6M      0  0:00:47  0:00:09  0:00:38 37.8M\n",
      " 24  786M   24  195M    0     0  19.0M      0  0:00:41  0:00:10  0:00:31 41.3M\n",
      " 31  786M   31  244M    0     0  21.6M      0  0:00:36  0:00:11  0:00:25 46.7M\n",
      " 37  786M   37  293M    0     0  23.9M      0  0:00:32  0:00:12  0:00:20 48.9M\n",
      " 44  786M   44  349M    0     0  26.3M      0  0:00:29  0:00:13  0:00:16 48.7M\n",
      " 51  786M   51  405M    0     0  28.3M      0  0:00:27  0:00:14  0:00:13 49.9M\n",
      " 57  786M   57  453M    0     0  29.6M      0  0:00:26  0:00:15  0:00:11 51.3M\n",
      " 65  786M   65  511M    0     0  31.4M      0  0:00:25  0:00:16  0:00:09 53.5M\n",
      " 72  786M   72  570M    0     0  33.0M      0  0:00:23  0:00:17  0:00:06 55.3M\n",
      " 78  786M   78  618M    0     0  33.8M      0  0:00:23  0:00:18  0:00:05 53.7M\n",
      " 84  786M   84  661M    0     0  34.3M      0  0:00:22  0:00:19  0:00:03 51.5M\n",
      " 91  786M   91  718M    0     0  35.4M      0  0:00:22  0:00:20  0:00:02 53.1M\n",
      " 98  786M   98  773M    0     0  36.3M      0  0:00:21  0:00:21 --:--:-- 52.2M\n",
      "100  786M  100  786M    0     0  36.5M      0  0:00:21  0:00:21 --:--:-- 50.8M\n"
     ]
    }
   ],
   "source": [
    "!curl -O https://download.microsoft.com/download/3/E/1/3E1C3F21-ECDB-4869-8368-6DEBA77B919F/kagglecatsanddogs_3367a.zip"
   ]
  },
  {
   "cell_type": "code",
   "execution_count": null,
   "id": "e0680914",
   "metadata": {},
   "outputs": [],
   "source": []
  }
 ],
 "metadata": {
  "kernelspec": {
   "display_name": "Python [conda env:Miniconda3-ModelIn2022]",
   "language": "python",
   "name": "conda-env-Miniconda3-ModelIn2022-py"
  },
  "language_info": {
   "codemirror_mode": {
    "name": "ipython",
    "version": 3
   },
   "file_extension": ".py",
   "mimetype": "text/x-python",
   "name": "python",
   "nbconvert_exporter": "python",
   "pygments_lexer": "ipython3",
   "version": "3.8.12"
  }
 },
 "nbformat": 4,
 "nbformat_minor": 5
}
